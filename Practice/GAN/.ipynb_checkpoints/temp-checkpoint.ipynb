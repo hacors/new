{
 "cells": [
  {
   "cell_type": "markdown",
   "metadata": {},
   "source": [
    "基本环境配置"
   ]
  },
  {
   "cell_type": "code",
   "execution_count": 1,
   "metadata": {},
   "outputs": [
    {
     "name": "stdout",
     "output_type": "stream",
     "text": [
      "version: tensorflow 1.13.1,keras 2.2.4-tf\n",
      "\n"
     ]
    }
   ],
   "source": [
    "import os\n",
    "import tensorflow as tf\n",
    "from tensorflow import keras\n",
    "tf.enable_eager_execution()\n",
    "print('version: tensorflow %s,keras %s\\n' % (tf.VERSION, tf.keras.__version__))"
   ]
  },
  {
   "cell_type": "code",
   "execution_count": 5,
   "metadata": {},
   "outputs": [
    {
     "name": "stdout",
     "output_type": "stream",
     "text": [
      "(60000, 28, 28, 1)\n"
     ]
    }
   ],
   "source": [
    "(train_images_orig, train_labels_orig), (test_images_orig,\n",
    "                                         test_labels_orig) = tf.keras.datasets.mnist.load_data()\n",
    "train_images_casted = tf.cast(train_images_orig[..., tf.newaxis]/255, tf.float32)\n",
    "print(train_images_casted.shape)"
   ]
  },
  {
   "cell_type": "code",
   "execution_count": 3,
   "metadata": {},
   "outputs": [
    {
     "ename": "NameError",
     "evalue": "name 'train_labels_casted' is not defined",
     "output_type": "error",
     "traceback": [
      "\u001b[1;31m---------------------------------------------------------------------------\u001b[0m",
      "\u001b[1;31mNameError\u001b[0m                                 Traceback (most recent call last)",
      "\u001b[1;32m<ipython-input-3-e144fcfa7510>\u001b[0m in \u001b[0;36m<module>\u001b[1;34m\u001b[0m\n\u001b[0;32m      1\u001b[0m \u001b[0mtrain_images_casted\u001b[0m \u001b[1;33m=\u001b[0m \u001b[0mtf\u001b[0m\u001b[1;33m.\u001b[0m\u001b[0mcast\u001b[0m\u001b[1;33m(\u001b[0m\u001b[0mtrain_images_orig\u001b[0m\u001b[1;33m[\u001b[0m\u001b[1;33m...\u001b[0m\u001b[1;33m,\u001b[0m \u001b[0mtf\u001b[0m\u001b[1;33m.\u001b[0m\u001b[0mnewaxis\u001b[0m\u001b[1;33m]\u001b[0m\u001b[1;33m/\u001b[0m\u001b[1;36m255\u001b[0m\u001b[1;33m,\u001b[0m \u001b[0mtf\u001b[0m\u001b[1;33m.\u001b[0m\u001b[0mfloat32\u001b[0m\u001b[1;33m)\u001b[0m\u001b[1;33m\u001b[0m\u001b[1;33m\u001b[0m\u001b[0m\n\u001b[0;32m      2\u001b[0m train_tensor_orig = tf.data.Dataset.from_tensor_slices(\n\u001b[1;32m----> 3\u001b[1;33m     (train_images_casted, train_labels_casted))\n\u001b[0m",
      "\u001b[1;31mNameError\u001b[0m: name 'train_labels_casted' is not defined"
     ]
    }
   ],
   "source": [
    "def discrimanator(input_shape=(28, 28, 1), conv_list=[16, 16], dens_list=[128, 16,1]):\n",
    "    input_data = keras.layers.Input(shape=input_shape)\n",
    "    digits = input_data\n",
    "    for dim in conv_list:\n",
    "        digits = keras.layers.Conv2D(dim, (5, 5), padding='same', kernel_initializer=ker_init, bias_initializer=bia_init)(digits)\n",
    "        digits = keras.layers.MaxPool2D()(digits)\n",
    "    digits = keras.layers.Flatten()(digits)\n",
    "    for dim in dens_list:\n",
    "        digits = keras.layers.Dense(dim, kernel_initializer=ker_init, bias_initializer=bia_init)(digits)\n",
    "        digits = keras.layers.LeakyReLU()(digits)\n",
    "    prediction = digits\n",
    "    model = keras.Model(inputs=input_data, outputs=prediction)\n",
    "    return(model)"
   ]
  },
  {
   "cell_type": "code",
   "execution_count": null,
   "metadata": {},
   "outputs": [],
   "source": []
  }
 ],
 "metadata": {
  "kernelspec": {
   "display_name": "Python 3",
   "language": "python",
   "name": "python3"
  },
  "language_info": {
   "codemirror_mode": {
    "name": "ipython",
    "version": 3
   },
   "file_extension": ".py",
   "mimetype": "text/x-python",
   "name": "python",
   "nbconvert_exporter": "python",
   "pygments_lexer": "ipython3",
   "version": "3.6.8"
  }
 },
 "nbformat": 4,
 "nbformat_minor": 2
}
