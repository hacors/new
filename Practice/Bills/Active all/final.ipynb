{
 "cells": [
  {
   "cell_type": "code",
   "execution_count": 1,
   "metadata": {
    "ExecuteTime": {
     "end_time": "2019-04-02T08:20:10.301030Z",
     "start_time": "2019-04-02T08:20:09.796379Z"
    }
   },
   "outputs": [],
   "source": [
    "import pandas as pd;\n",
    "import numpy as np\n",
    "import matplotlib.pyplot as plt"
   ]
  },
  {
   "cell_type": "markdown",
   "metadata": {},
   "source": [
    "# Supervised, Semi-Supervised, and Unsupervised Learning"
   ]
  },
  {
   "cell_type": "markdown",
   "metadata": {},
   "source": [
    "## a)"
   ]
  },
  {
   "cell_type": "code",
   "execution_count": 2,
   "metadata": {
    "ExecuteTime": {
     "end_time": "2019-04-02T08:20:10.338116Z",
     "start_time": "2019-04-02T08:20:10.303025Z"
    }
   },
   "outputs": [],
   "source": [
    "df=pd.read_csv(\"wdbc.data\", sep=\",\",header=None);\n",
    "data = np.array(df)\n",
    "X = np.array(data[:, 2:], dtype=float)\n",
    "y = np.array(data[:, 1] == 'M', dtype=int)\n",
    "\n",
    "p_test_size = int(np.sum(y) * 0.2)\n",
    "n_test_size = int((y.shape[0] - np.sum(y)) * 0.2)\n",
    "p_test_index = []\n",
    "n_test_index = []\n",
    "p_test_cur_size = 0\n",
    "n_test_cur_size = 0\n",
    "\n",
    "for i in range(y.shape[0]):\n",
    "    if y[i] == 1 and p_test_cur_size < p_test_size:\n",
    "        p_test_index.append(i)\n",
    "        p_test_cur_size += 1\n",
    "        \n",
    "    if y[i] == 0 and n_test_cur_size < n_test_size:\n",
    "        n_test_index.append(i)\n",
    "        n_test_cur_size += 1\n",
    "        \n",
    "test_index = p_test_index + n_test_index\n",
    "train_index = [i for i in np.arange(y.shape[0]) if i not in p_test_index and i not in n_test_index]\n",
    "\n",
    "X_train = X[train_index]\n",
    "X_test = X[test_index]\n",
    "y_train = y[train_index]\n",
    "y_test = y[test_index]"
   ]
  },
  {
   "cell_type": "markdown",
   "metadata": {
    "ExecuteTime": {
     "end_time": "2019-04-01T07:54:11.673077Z",
     "start_time": "2019-04-01T07:54:11.667069Z"
    }
   },
   "source": [
    "## b)"
   ]
  },
  {
   "cell_type": "code",
   "execution_count": 3,
   "metadata": {
    "ExecuteTime": {
     "end_time": "2019-04-02T08:20:10.343945Z",
     "start_time": "2019-04-02T08:20:10.338929Z"
    }
   },
   "outputs": [],
   "source": [
    "M = 30\n",
    "\n",
    "def train_test_split(X, y, test_size=0.2):\n",
    "    p_test_size = int(np.sum(y) * test_size)\n",
    "    n_test_size = int((y.shape[0] - np.sum(y)) * test_size)\n",
    "    p_index = np.argwhere(y == 1).flatten()\n",
    "    n_index = np.argwhere(y == 0).flatten()\n",
    "    np.random.shuffle(p_index)\n",
    "    np.random.shuffle(n_index)\n",
    "    p_test_index = p_index[:p_test_size]\n",
    "    n_test_index = n_index[:n_test_size]\n",
    "    test_index = np.hstack((p_test_index, n_test_index))\n",
    "    train_index = [i for i in np.arange(y.shape[0]) if i not in test_index]\n",
    "\n",
    "    X_train = X[train_index]\n",
    "    X_test = X[test_index]\n",
    "    y_train = y[train_index]\n",
    "    y_test = y[test_index]\n",
    "    \n",
    "    return X_train, X_test, y_train, y_test"
   ]
  },
  {
   "cell_type": "markdown",
   "metadata": {},
   "source": [
    "### Supervised Learning"
   ]
  },
  {
   "cell_type": "code",
   "execution_count": 4,
   "metadata": {
    "ExecuteTime": {
     "end_time": "2019-04-02T08:20:11.508066Z",
     "start_time": "2019-04-02T08:20:10.347909Z"
    }
   },
   "outputs": [
    {
     "name": "stdout",
     "output_type": "stream",
     "text": [
      "The best penalty is :0.1\n"
     ]
    }
   ],
   "source": [
    "from sklearn import svm\n",
    "from sklearn.model_selection import cross_val_score\n",
    "from sklearn.preprocessing import StandardScaler\n",
    "\n",
    "scaler = StandardScaler()\n",
    "X_train, X_test, y_train, y_test = train_test_split(X, y)\n",
    "scaler.fit(X_train)\n",
    "X_train = scaler.transform(X_train)\n",
    "X_test = scaler.transform(X_test)\n",
    "\n",
    "n_folds = 5\n",
    "accuracy = []\n",
    "penalty = np.linspace(0.1, 2, 20)\n",
    "for i in penalty:\n",
    "    svm_clf = svm.LinearSVC(C=i, dual=False, penalty='l1', random_state=0, max_iter=3000)\n",
    "    scores = cross_val_score(svm_clf, X_train, y_train, scoring='precision_macro', cv=n_folds)\n",
    "    accuracy.append(scores.mean())\n",
    "best_penalty = penalty[np.argmax(accuracy)]\n",
    "print('The best penalty is :' + str(best_penalty))"
   ]
  },
  {
   "cell_type": "code",
   "execution_count": 5,
   "metadata": {
    "ExecuteTime": {
     "end_time": "2019-04-02T08:20:11.870935Z",
     "start_time": "2019-04-02T08:20:11.510058Z"
    }
   },
   "outputs": [],
   "source": [
    "import matplotlib.pyplot as plt\n",
    "from sklearn.metrics import accuracy_score,recall_score,precision_score,f1_score,roc_auc_score, roc_curve, confusion_matrix\n",
    "svm_accuracy_list=[]\n",
    "svm_recall_list=[]\n",
    "svm_precision_list=[]\n",
    "svm_f1score_list=[]\n",
    "svm_auc_list=[]\n",
    "for i in range(M):\n",
    "    svm_clf = svm.LinearSVC(C=best_penalty, dual=False, penalty='l1', random_state=0, max_iter=5000)\n",
    "    X_train, X_test, y_train, y_test = train_test_split(X, y)\n",
    "    scaler.fit(X_train)\n",
    "    X_train = scaler.transform(X_train)\n",
    "    X_test = scaler.transform(X_test)\n",
    "    svm_clf.fit(X_train,y_train)\n",
    "    y_train_predict=svm_clf.predict(X_train)\n",
    "    y_test_predict=svm_clf.predict(X_test)\n",
    "    svm_accuracy_list.append([accuracy_score(y_train, y_train_predict), accuracy_score(y_test, y_test_predict)])\n",
    "    svm_precision_list.append([precision_score(y_train, y_train_predict), precision_score(y_test, y_test_predict)])\n",
    "    svm_recall_list.append([recall_score(y_train, y_train_predict), recall_score(y_test, y_test_predict)])\n",
    "    svm_f1score_list.append([f1_score(y_train, y_train_predict), f1_score(y_test, y_test_predict)])\n",
    "    train_decision_score = svm_clf.decision_function(X_train)\n",
    "    test_decision_score = svm_clf.decision_function(X_test)\n",
    "\n",
    "    svm_auc_list.append([roc_auc_score(y_train, train_decision_score), roc_auc_score(y_test, test_decision_score)])"
   ]
  },
  {
   "cell_type": "code",
   "execution_count": 6,
   "metadata": {
    "ExecuteTime": {
     "end_time": "2019-04-02T08:20:11.877884Z",
     "start_time": "2019-04-02T08:20:11.871932Z"
    }
   },
   "outputs": [
    {
     "name": "stdout",
     "output_type": "stream",
     "text": [
      "training set:\n",
      "Average accuracy: 0.9850146198830408\n",
      "Average precision: 0.991196690417883\n",
      "Average recall: 0.9684313725490193\n",
      "Average f1 score: 0.9796656131781147\n",
      "Average AUC: 0.9970972165089812\n",
      "\n",
      "\n",
      "test set:\n",
      "Average accuracy: 0.9707964601769912\n",
      "Average precision: 0.9750156587631587\n",
      "Average recall: 0.9460317460317459\n",
      "Average f1 score: 0.9598916304120011\n",
      "Average AUC: 0.9931701319025262\n"
     ]
    }
   ],
   "source": [
    "print('training set:')\n",
    "print('Average accuracy: ' + str(np.mean(np.array(svm_accuracy_list)[:, 0])))\n",
    "print('Average precision: ' + str(np.mean(np.array(svm_precision_list)[:, 0])))\n",
    "print('Average recall: ' + str(np.mean(np.array(svm_recall_list)[:, 0])))\n",
    "print('Average f1 score: ' + str(np.mean(np.array(svm_f1score_list)[:, 0])))\n",
    "print('Average AUC: ' + str(np.mean(np.array(svm_auc_list)[:, 0])))\n",
    "print('\\n')\n",
    "print('test set:')\n",
    "print('Average accuracy: ' + str(np.mean(np.array(svm_accuracy_list)[:, 1])))\n",
    "print('Average precision: ' + str(np.mean(np.array(svm_precision_list)[:, 1])))\n",
    "print('Average recall: ' + str(np.mean(np.array(svm_recall_list)[:, 1])))\n",
    "print('Average f1 score: ' + str(np.mean(np.array(svm_f1score_list)[:, 1])))\n",
    "print('Average AUC: ' + str(np.mean(np.array(svm_auc_list)[:, 1])))"
   ]
  },
  {
   "cell_type": "code",
   "execution_count": 7,
   "metadata": {
    "ExecuteTime": {
     "end_time": "2019-04-02T08:20:12.036455Z",
     "start_time": "2019-04-02T08:20:11.880878Z"
    },
    "scrolled": true
   },
   "outputs": [
    {
     "data": {
      "text/plain": [
       "<matplotlib.legend.Legend at 0x2aeb5d25550>"
      ]
     },
     "execution_count": 7,
     "metadata": {},
     "output_type": "execute_result"
    },
    {
     "data": {
      "image/png": "[encoded data removed]",
      "text/plain": [
       "<Figure size 432x288 with 1 Axes>"
      ]
     },
     "metadata": {
      "needs_background": "light"
     },
     "output_type": "display_data"
    }
   ],
   "source": [
    "fprs, tprs, threshold = roc_curve(y_train, train_decision_score)\n",
    "plt.plot(fprs, tprs, c='b', label='train set')\n",
    "svm_fprs, svm_tprs, threshold = roc_curve(y_test, test_decision_score)\n",
    "plt.plot(svm_fprs, svm_tprs, c='r', label='test set')\n",
    "plt.title('ROC curve')\n",
    "plt.legend()"
   ]
  },
  {
   "cell_type": "code",
   "execution_count": 8,
   "metadata": {
    "ExecuteTime": {
     "end_time": "2019-04-02T08:20:12.042439Z",
     "start_time": "2019-04-02T08:20:12.037487Z"
    }
   },
   "outputs": [
    {
     "name": "stdout",
     "output_type": "stream",
     "text": [
      "train_confusion_matrix:\n",
      "[[285   1]\n",
      " [  6 164]]\n",
      "test_confusion_matrix:\n",
      "[[70  1]\n",
      " [ 0 42]]\n"
     ]
    }
   ],
   "source": [
    "train_confusion_matrix = confusion_matrix(y_train, y_train_predict)\n",
    "print('train_confusion_matrix:')\n",
    "print(train_confusion_matrix)\n",
    "test_confusion_matrix = confusion_matrix(y_test, y_test_predict)\n",
    "print('test_confusion_matrix:')\n",
    "print(test_confusion_matrix)"
   ]
  },
  {
   "cell_type": "markdown",
   "metadata": {},
   "source": [
    "### Semi-Supervised Learning/ Self-training"
   ]
  },
  {
   "cell_type": "code",
   "execution_count": 9,
   "metadata": {
    "ExecuteTime": {
     "end_time": "2019-04-02T08:20:12.400504Z",
     "start_time": "2019-04-02T08:20:12.043437Z"
    }
   },
   "outputs": [
    {
     "name": "stdout",
     "output_type": "stream",
     "text": [
      "The best penalty is :0.8999999999999999\n"
     ]
    }
   ],
   "source": [
    "X_train, X_test, y_train, y_test = train_test_split(X, y, test_size=0.5)\n",
    "scaler.fit(X_train)\n",
    "X_train = scaler.transform(X_train)\n",
    "X_test = scaler.transform(X_test)\n",
    "X_train_label, X_train_nolabel, y_train_label, y_train_nolabel = train_test_split(X_train, y_train)\n",
    "\n",
    "n_folds = 5\n",
    "accuracy = []\n",
    "penalty = np.linspace(0.1, 2, 20)\n",
    "for i in penalty:\n",
    "    svm_clf = svm.LinearSVC(C=i, dual=False, penalty='l1', random_state=0, max_iter=5000)\n",
    "    scores = cross_val_score(svm_clf, X_train_label, y_train_label, scoring='precision_macro', cv=n_folds)\n",
    "    accuracy.append(scores.mean())\n",
    "best_penalty = penalty[np.argmax(accuracy)]\n",
    "print('The best penalty is :' + str(best_penalty))"
   ]
  },
  {
   "cell_type": "code",
   "execution_count": 10,
   "metadata": {
    "ExecuteTime": {
     "end_time": "2019-04-02T08:20:46.856982Z",
     "start_time": "2019-04-02T08:20:12.402478Z"
    }
   },
   "outputs": [],
   "source": [
    "import matplotlib.pyplot as plt\n",
    "from sklearn.metrics import *\n",
    "semi_accuracy_list=[]\n",
    "semi_recall_list=[]\n",
    "semi_precision_list=[]\n",
    "semi_f1score_list=[]\n",
    "semi_auc_list=[]\n",
    "for i in range(M):\n",
    "    X_train, X_test, y_train, y_test = train_test_split(X, y)\n",
    "    scaler.fit(X_train)\n",
    "    X_train = scaler.transform(X_train)\n",
    "    X_test = scaler.transform(X_test)\n",
    "    X_train_label, X_train_nolabel, y_train_label, y_train_nolabel = train_test_split(X_train, y_train, test_size=0.5)\n",
    "\n",
    "    while(X_train_nolabel.shape[0] >0):\n",
    "        svm_clf = svm.LinearSVC(C=best_penalty, dual=False, penalty='l1', random_state=0, max_iter=5000)\n",
    "        svm_clf.fit(X_train_label, y_train_label)\n",
    "        distances = np.abs(svm_clf.decision_function(X_train_nolabel))\n",
    "        farthest_index = np.argmax(distances)\n",
    "        farthest_point = X_train_nolabel[farthest_index].reshape(1, -1)\n",
    "        X_train_label = np.vstack((X_train_label, farthest_point))\n",
    "        X_train_nolabel = np.delete(X_train_nolabel, farthest_index, axis=0)\n",
    "        y_train_label = np.hstack((y_train_label, svm_clf.predict(farthest_point)))\n",
    "    \n",
    "    y_train_label_predict=svm_clf.predict(X_train_label)\n",
    "    y_test_predict=svm_clf.predict(X_test)\n",
    "    semi_accuracy_list.append([accuracy_score(y_train_label, y_train_label_predict), accuracy_score(y_test, y_test_predict)])\n",
    "    semi_precision_list.append([precision_score(y_train_label, y_train_label_predict), precision_score(y_test, y_test_predict)])\n",
    "    semi_recall_list.append([recall_score(y_train_label, y_train_label_predict), recall_score(y_test, y_test_predict)])\n",
    "    semi_f1score_list.append([f1_score(y_train_label, y_train_label_predict), f1_score(y_test, y_test_predict)])\n",
    "    train_label_decision_score = svm_clf.decision_function(X_train_label)\n",
    "    test_decision_score = svm_clf.decision_function(X_test)\n",
    "\n",
    "    semi_auc_list.append([roc_auc_score(y_train_label, train_label_decision_score), roc_auc_score(y_test, test_decision_score)])"
   ]
  },
  {
   "cell_type": "code",
   "execution_count": 11,
   "metadata": {
    "ExecuteTime": {
     "end_time": "2019-04-02T08:20:46.867925Z",
     "start_time": "2019-04-02T08:20:46.857952Z"
    }
   },
   "outputs": [
    {
     "name": "stdout",
     "output_type": "stream",
     "text": [
      "training set:\n",
      "Average accuracy: 0.9960526315789473\n",
      "Average precision: 0.9993923832536481\n",
      "Average recall: 0.9898978303601595\n",
      "Average f1 score: 0.9946042596426443\n",
      "Average AUC: 0.9997575554794318\n",
      "\n",
      "\n",
      "test set:\n",
      "Average accuracy: 0.9557522123893805\n",
      "Average precision: 0.951775500230641\n",
      "Average recall: 0.9293650793650792\n",
      "Average f1 score: 0.9395233056227603\n",
      "Average AUC: 0.9847753185781355\n"
     ]
    }
   ],
   "source": [
    "print('training set:')\n",
    "print('Average accuracy: ' + str(np.mean(np.array(semi_accuracy_list)[:, 0])))\n",
    "print('Average precision: ' + str(np.mean(np.array(semi_precision_list)[:, 0])))\n",
    "print('Average recall: ' + str(np.mean(np.array(semi_recall_list)[:, 0])))\n",
    "print('Average f1 score: ' + str(np.mean(np.array(semi_f1score_list)[:, 0])))\n",
    "print('Average AUC: ' + str(np.mean(np.array(semi_auc_list)[:, 0])))\n",
    "print('\\n')\n",
    "print('test set:')\n",
    "print('Average accuracy: ' + str(np.mean(np.array(semi_accuracy_list)[:, 1])))\n",
    "print('Average precision: ' + str(np.mean(np.array(semi_precision_list)[:, 1])))\n",
    "print('Average recall: ' + str(np.mean(np.array(semi_recall_list)[:, 1])))\n",
    "print('Average f1 score: ' + str(np.mean(np.array(semi_f1score_list)[:, 1])))\n",
    "print('Average AUC: ' + str(np.mean(np.array(semi_auc_list)[:, 1])))"
   ]
  },
  {
   "cell_type": "code",
   "execution_count": 12,
   "metadata": {
    "ExecuteTime": {
     "end_time": "2019-04-02T08:20:47.002679Z",
     "start_time": "2019-04-02T08:20:46.868923Z"
    }
   },
   "outputs": [
    {
     "data": {
      "text/plain": [
       "<matplotlib.legend.Legend at 0x2aeb5dd8cf8>"
      ]
     },
     "execution_count": 12,
     "metadata": {},
     "output_type": "execute_result"
    },
    {
     "data": {
      "image/png": "[encoded data removed]",
      "text/plain": [
       "<Figure size 432x288 with 1 Axes>"
      ]
     },
     "metadata": {
      "needs_background": "light"
     },
     "output_type": "display_data"
    }
   ],
   "source": [
    "fprs, tprs, threshold = roc_curve(y_train_label, train_label_decision_score)\n",
    "plt.plot(fprs, tprs, c='b', label='train set')\n",
    "semi_fprs, semi_tprs, threshold = roc_curve(y_test, test_decision_score)\n",
    "plt.plot(semi_fprs, semi_tprs, c='r', label='test set')\n",
    "plt.title('ROC curve')\n",
    "plt.legend()"
   ]
  },
  {
   "cell_type": "code",
   "execution_count": 13,
   "metadata": {
    "ExecuteTime": {
     "end_time": "2019-04-02T08:20:47.009638Z",
     "start_time": "2019-04-02T08:20:47.003651Z"
    }
   },
   "outputs": [
    {
     "name": "stdout",
     "output_type": "stream",
     "text": [
      "train_confusion_matrix:\n",
      "[[285   0]\n",
      " [  1 170]]\n",
      "test_confusion_matrix:\n",
      "[[69  2]\n",
      " [ 2 40]]\n"
     ]
    }
   ],
   "source": [
    "train_confusion_matrix = confusion_matrix(y_train_label, y_train_label_predict)\n",
    "print('train_confusion_matrix:')\n",
    "print(train_confusion_matrix)\n",
    "test_confusion_matrix = confusion_matrix(y_test, y_test_predict)\n",
    "print('test_confusion_matrix:')\n",
    "print(test_confusion_matrix)"
   ]
  },
  {
   "cell_type": "markdown",
   "metadata": {},
   "source": [
    "### Unsupervised Learning"
   ]
  },
  {
   "cell_type": "raw",
   "metadata": {},
   "source": [
    "Solve the problem of local optimal solutions by k-center algorithm:\n",
    "Initialize and select k centroids (random selection, or domain knowledge selection), which determines the speed and effect of clustering\n",
    "Split clusters for all points\n",
    "Calculate the loss of this division\n",
    "When the loss can be reduced, the cycle is as follows:\n",
    "Do the following for each centroid (k):\n",
    "a. Randomly choose a new point\n",
    "b. Replace this centroid with a new one\n",
    "c. Re-clusters all data\n",
    "d. Calculate the loss of the division\n",
    "e. If the new loss is less than the original loss, replace the original centroid with    the new one."
   ]
  },
  {
   "cell_type": "code",
   "execution_count": 14,
   "metadata": {
    "ExecuteTime": {
     "end_time": "2019-04-02T08:20:47.806270Z",
     "start_time": "2019-04-02T08:20:47.010635Z"
    }
   },
   "outputs": [],
   "source": [
    "from sklearn.cluster import KMeans\n",
    "accuracy_list=[]\n",
    "recall_list=[]\n",
    "precision_list=[]\n",
    "f1score_list=[]\n",
    "auc_list=[]\n",
    "for i in range(M):\n",
    "    X_train, X_test, y_train, y_test = train_test_split(X, y)\n",
    "    kcluster = KMeans(n_clusters=2, init='random', n_init=15)\n",
    "    kcluster.fit(X_train)\n",
    "    distances = kcluster.transform(X_train)\n",
    "    cluster1_point_index = np.argsort(distances[:, 0])[:30]\n",
    "    cluster2_point_index = np.argsort(distances[:, 1])[:30]\n",
    "    cluster_point_index = np.hstack((cluster1_point_index, cluster2_point_index))\n",
    "\n",
    "    cluster_point_cluster_label = kcluster.labels_[cluster_point_index]\n",
    "    cluster_point_ture_label = y_train[cluster_point_index]\n",
    "    s1 = np.sum(cluster_point_cluster_label == cluster_point_ture_label)\n",
    "    s2 = np.sum((cluster_point_cluster_label==0) == cluster_point_ture_label)\n",
    "    if s2 > s1:\n",
    "        cluster_point_cluster_label = cluster_point_cluster_label==0\n",
    "    \n",
    "    accuracy_list.append(accuracy_score(cluster_point_ture_label, cluster_point_cluster_label))\n",
    "    precision_list.append(precision_score(cluster_point_ture_label, cluster_point_cluster_label))\n",
    "    recall_list.append(recall_score(cluster_point_ture_label, cluster_point_cluster_label))\n",
    "    f1score_list.append(f1_score(cluster_point_ture_label, cluster_point_cluster_label))\n",
    "    fpr,tpr,thresholds = roc_curve(cluster_point_ture_label, cluster_point_cluster_label)\n",
    "    auc_list.append(auc(fpr, tpr))"
   ]
  },
  {
   "cell_type": "code",
   "execution_count": 15,
   "metadata": {
    "ExecuteTime": {
     "end_time": "2019-04-02T08:20:47.813224Z",
     "start_time": "2019-04-02T08:20:47.808264Z"
    }
   },
   "outputs": [
    {
     "name": "stdout",
     "output_type": "stream",
     "text": [
      "cluster_point set:\n",
      "Average accuracy: 0.9883333333333335\n",
      "Average precision: 1.0\n",
      "Average recall: 0.9774193548387099\n",
      "Average f1 score: 0.9885245901639341\n",
      "Average AUC: 0.9887096774193549\n"
     ]
    }
   ],
   "source": [
    "print('cluster_point set:')\n",
    "print('Average accuracy: ' + str(np.mean(np.array(accuracy_list))))\n",
    "print('Average precision: ' + str(np.mean(np.array(precision_list))))\n",
    "print('Average recall: ' + str(np.mean(np.array(recall_list))))\n",
    "print('Average f1 score: ' + str(np.mean(np.array(f1score_list))))\n",
    "print('Average AUC: ' + str(np.mean(np.array(auc_list))))"
   ]
  },
  {
   "cell_type": "code",
   "execution_count": 16,
   "metadata": {
    "ExecuteTime": {
     "end_time": "2019-04-02T08:20:47.934900Z",
     "start_time": "2019-04-02T08:20:47.815221Z"
    }
   },
   "outputs": [
    {
     "data": {
      "text/plain": [
       "Text(0.5, 1.0, 'ROC curve')"
      ]
     },
     "execution_count": 16,
     "metadata": {},
     "output_type": "execute_result"
    },
    {
     "data": {
      "image/png": "[encoded data removed]",
      "text/plain": [
       "<Figure size 432x288 with 1 Axes>"
      ]
     },
     "metadata": {
      "needs_background": "light"
     },
     "output_type": "display_data"
    }
   ],
   "source": [
    "plt.plot(fprs, tprs, c='b')\n",
    "plt.title('ROC curve')"
   ]
  },
  {
   "cell_type": "code",
   "execution_count": 17,
   "metadata": {
    "ExecuteTime": {
     "end_time": "2019-04-02T08:20:47.939888Z",
     "start_time": "2019-04-02T08:20:47.935896Z"
    }
   },
   "outputs": [
    {
     "name": "stdout",
     "output_type": "stream",
     "text": [
      "confusion_matrix:\n",
      "[[29  0]\n",
      " [ 1 30]]\n"
     ]
    }
   ],
   "source": [
    "cluster_point_confusion_matrix = confusion_matrix(cluster_point_ture_label, cluster_point_cluster_label)\n",
    "print('confusion_matrix:')\n",
    "print(cluster_point_confusion_matrix)"
   ]
  },
  {
   "cell_type": "code",
   "execution_count": 18,
   "metadata": {
    "ExecuteTime": {
     "end_time": "2019-04-02T08:20:48.885599Z",
     "start_time": "2019-04-02T08:20:47.946869Z"
    }
   },
   "outputs": [],
   "source": [
    "km_accuracy_list=[]\n",
    "km_recall_list=[]\n",
    "km_precision_list=[]\n",
    "km_f1score_list=[]\n",
    "km_auc_list=[]\n",
    "for i in range(M):\n",
    "    X_train, X_test, y_train, y_test = train_test_split(X, y)\n",
    "    X_train, X_test, y_train, y_test = train_test_split(X, y)\n",
    "    scaler.fit(X_train)\n",
    "    X_train = scaler.transform(X_train)\n",
    "    X_test = scaler.transform(X_test)\n",
    "    kcluster = KMeans(n_clusters=2, init='random', n_init=15)\n",
    "    kcluster.fit(X_train)\n",
    "    y_test_predict = kcluster.predict(X_test)\n",
    "    s1 = np.sum(y_test == y_test_predict)\n",
    "    s2 = np.sum(y_test == (y_test_predict==0))\n",
    "    if s2 > s1:\n",
    "        y_test_predict = y_test_predict==0\n",
    "        \n",
    "    km_accuracy_list.append(accuracy_score(y_test, y_test_predict))\n",
    "    km_precision_list.append(precision_score(y_test, y_test_predict))\n",
    "    km_recall_list.append(recall_score(y_test, y_test_predict))\n",
    "    km_f1score_list.append(f1_score(y_test, y_test_predict))\n",
    "    km_fprs,km_tprs,thresholds = roc_curve(y_test, y_test_predict)\n",
    "    km_auc_list.append(auc(km_fprs, km_tprs))"
   ]
  },
  {
   "cell_type": "code",
   "execution_count": 19,
   "metadata": {
    "ExecuteTime": {
     "end_time": "2019-04-02T08:20:48.893018Z",
     "start_time": "2019-04-02T08:20:48.887032Z"
    }
   },
   "outputs": [
    {
     "name": "stdout",
     "output_type": "stream",
     "text": [
      "test set:\n",
      "Average accuracy: 0.9070796460176992\n",
      "Average precision: 0.9244792676835717\n",
      "Average recall: 0.8182539682539683\n",
      "Average f1 score: 0.8670144637733621\n",
      "Average AUC: 0.888939190699754\n"
     ]
    }
   ],
   "source": [
    "print('test set:')\n",
    "print('Average accuracy: ' + str(np.mean(np.array(km_accuracy_list))))\n",
    "print('Average precision: ' + str(np.mean(np.array(km_precision_list))))\n",
    "print('Average recall: ' + str(np.mean(np.array(km_recall_list))))\n",
    "print('Average f1 score: ' + str(np.mean(np.array(km_f1score_list))))\n",
    "print('Average AUC: ' + str(np.mean(np.array(km_auc_list))))"
   ]
  },
  {
   "cell_type": "code",
   "execution_count": 20,
   "metadata": {
    "ExecuteTime": {
     "end_time": "2019-04-02T08:20:49.022239Z",
     "start_time": "2019-04-02T08:20:48.896009Z"
    }
   },
   "outputs": [
    {
     "data": {
      "text/plain": [
       "<matplotlib.legend.Legend at 0x2aeb6067dd8>"
      ]
     },
     "execution_count": 20,
     "metadata": {},
     "output_type": "execute_result"
    },
    {
     "data": {
      "image/png": "[encoded data removed]",
      "text/plain": [
       "<Figure size 432x288 with 1 Axes>"
      ]
     },
     "metadata": {
      "needs_background": "light"
     },
     "output_type": "display_data"
    }
   ],
   "source": [
    "plt.plot(km_fprs, km_tprs, c='b', label='test set')\n",
    "plt.title('ROC curve')\n",
    "plt.legend()"
   ]
  },
  {
   "cell_type": "code",
   "execution_count": 21,
   "metadata": {
    "ExecuteTime": {
     "end_time": "2019-04-02T08:20:49.028186Z",
     "start_time": "2019-04-02T08:20:49.023232Z"
    }
   },
   "outputs": [
    {
     "name": "stdout",
     "output_type": "stream",
     "text": [
      "test_confusion_matrix:\n",
      "[[69  2]\n",
      " [11 31]]\n"
     ]
    }
   ],
   "source": [
    "test_confusion_matrix = confusion_matrix(y_test, y_test_predict)\n",
    "print('test_confusion_matrix:')\n",
    "print(test_confusion_matrix)"
   ]
  },
  {
   "cell_type": "markdown",
   "metadata": {},
   "source": [
    "### Spectral Clustering"
   ]
  },
  {
   "cell_type": "code",
   "execution_count": 22,
   "metadata": {
    "ExecuteTime": {
     "end_time": "2019-04-02T08:21:07.212000Z",
     "start_time": "2019-04-02T08:20:49.029184Z"
    }
   },
   "outputs": [],
   "source": [
    "from sklearn.cluster import SpectralClustering\n",
    "sp_accuracy_list=[]\n",
    "sp_recall_list=[]\n",
    "sp_precision_list=[]\n",
    "sp_f1score_list=[]\n",
    "sp_auc_list=[]\n",
    "for i in range(M):\n",
    "    X_train, X_test, y_train, y_test = train_test_split(X, y)\n",
    "    scaler.fit(X_train)\n",
    "    X_train = scaler.transform(X_train)\n",
    "    X_test = scaler.transform(X_test)\n",
    "    scluster = SpectralClustering(n_clusters=2, gamma=1.0, affinity='rbf')\n",
    "    scluster.fit(X_train)\n",
    "    y_test_predict = scluster.fit_predict(X_test)\n",
    "    s1 = np.sum(y_test == y_test_predict)\n",
    "    s2 = np.sum(y_test == (y_test_predict==0))\n",
    "    if s2 > s1:\n",
    "        y_test_predict = y_test_predict==0\n",
    "        \n",
    "    sp_accuracy_list.append(accuracy_score(y_test, y_test_predict))\n",
    "    sp_precision_list.append(precision_score(y_test, y_test_predict))\n",
    "    sp_recall_list.append(recall_score(y_test, y_test_predict))\n",
    "    sp_f1score_list.append(f1_score(y_test, y_test_predict))\n",
    "    sp_fprs,sp_tprs,thresholds = roc_curve(y_test, y_test_predict)\n",
    "    sp_auc_list.append(auc(sp_fprs, sp_tprs))"
   ]
  },
  {
   "cell_type": "code",
   "execution_count": 23,
   "metadata": {
    "ExecuteTime": {
     "end_time": "2019-04-02T08:21:07.216981Z",
     "start_time": "2019-04-02T08:21:07.212992Z"
    }
   },
   "outputs": [
    {
     "name": "stdout",
     "output_type": "stream",
     "text": [
      "test set:\n",
      "Average accuracy: 0.6445427728613567\n",
      "Average precision: 0.5986111111111112\n",
      "Average recall: 0.05793650793650794\n",
      "Average f1 score: 0.08906339092832524\n",
      "Average AUC: 0.5247429018555779\n"
     ]
    }
   ],
   "source": [
    "print('test set:')\n",
    "print('Average accuracy: ' + str(np.mean(np.array(sp_accuracy_list))))\n",
    "print('Average precision: ' + str(np.mean(np.array(sp_precision_list))))\n",
    "print('Average recall: ' + str(np.mean(np.array(sp_recall_list))))\n",
    "print('Average f1 score: ' + str(np.mean(np.array(sp_f1score_list))))\n",
    "print('Average AUC: ' + str(np.mean(np.array(sp_auc_list))))"
   ]
  },
  {
   "cell_type": "code",
   "execution_count": 24,
   "metadata": {
    "ExecuteTime": {
     "end_time": "2019-04-02T08:21:07.351461Z",
     "start_time": "2019-04-02T08:21:07.217948Z"
    }
   },
   "outputs": [
    {
     "data": {
      "text/plain": [
       "<matplotlib.legend.Legend at 0x2aeb60f6a58>"
      ]
     },
     "execution_count": 24,
     "metadata": {},
     "output_type": "execute_result"
    },
    {
     "data": {
      "image/png": "[encoded data removed]",
      "text/plain": [
       "<Figure size 432x288 with 1 Axes>"
      ]
     },
     "metadata": {
      "needs_background": "light"
     },
     "output_type": "display_data"
    }
   ],
   "source": [
    "plt.plot(sp_fprs, sp_tprs, c='b', label='test set')\n",
    "plt.title('ROC curve')\n",
    "plt.legend()"
   ]
  },
  {
   "cell_type": "code",
   "execution_count": 25,
   "metadata": {
    "ExecuteTime": {
     "end_time": "2019-04-02T08:21:07.356447Z",
     "start_time": "2019-04-02T08:21:07.352457Z"
    }
   },
   "outputs": [
    {
     "name": "stdout",
     "output_type": "stream",
     "text": [
      "test_confusion_matrix:\n",
      "[[70  1]\n",
      " [42  0]]\n"
     ]
    }
   ],
   "source": [
    "test_confusion_matrix = confusion_matrix(y_test, y_test_predict)\n",
    "print('test_confusion_matrix:')\n",
    "print(test_confusion_matrix)"
   ]
  },
  {
   "cell_type": "markdown",
   "metadata": {},
   "source": [
    "### Comparison"
   ]
  },
  {
   "cell_type": "code",
   "execution_count": 1,
   "metadata": {
    "ExecuteTime": {
     "end_time": "2019-04-02T08:21:07.538959Z",
     "start_time": "2019-04-02T08:21:07.357444Z"
    }
   },
   "outputs": [
    {
     "ename": "NameError",
     "evalue": "name 'np' is not defined",
     "output_type": "error",
     "traceback": [
      "\u001b[1;31m---------------------------------------------------------------------------\u001b[0m",
      "\u001b[1;31mNameError\u001b[0m                                 Traceback (most recent call last)",
      "\u001b[1;32m<ipython-input-1-e32ff546654a>\u001b[0m in \u001b[0;36m<module>\u001b[1;34m\u001b[0m\n\u001b[0;32m      1\u001b[0m \u001b[0mf1_score\u001b[0m \u001b[1;33m=\u001b[0m \u001b[1;33m[\u001b[0m\u001b[1;33m]\u001b[0m\u001b[1;33m\u001b[0m\u001b[1;33m\u001b[0m\u001b[0m\n\u001b[1;32m----> 2\u001b[1;33m \u001b[0mf1_score\u001b[0m\u001b[1;33m.\u001b[0m\u001b[0mappend\u001b[0m\u001b[1;33m(\u001b[0m\u001b[0mnp\u001b[0m\u001b[1;33m.\u001b[0m\u001b[0mmean\u001b[0m\u001b[1;33m(\u001b[0m\u001b[0mnp\u001b[0m\u001b[1;33m.\u001b[0m\u001b[0marray\u001b[0m\u001b[1;33m(\u001b[0m\u001b[0msvm_f1score_list\u001b[0m\u001b[1;33m)\u001b[0m\u001b[1;33m[\u001b[0m\u001b[1;33m:\u001b[0m\u001b[1;33m,\u001b[0m \u001b[1;36m1\u001b[0m\u001b[1;33m]\u001b[0m\u001b[1;33m)\u001b[0m\u001b[1;33m)\u001b[0m\u001b[1;33m\u001b[0m\u001b[1;33m\u001b[0m\u001b[0m\n\u001b[0m\u001b[0;32m      3\u001b[0m \u001b[0mf1_score\u001b[0m\u001b[1;33m.\u001b[0m\u001b[0mappend\u001b[0m\u001b[1;33m(\u001b[0m\u001b[0mnp\u001b[0m\u001b[1;33m.\u001b[0m\u001b[0mmean\u001b[0m\u001b[1;33m(\u001b[0m\u001b[0mnp\u001b[0m\u001b[1;33m.\u001b[0m\u001b[0marray\u001b[0m\u001b[1;33m(\u001b[0m\u001b[0msemi_f1score_list\u001b[0m\u001b[1;33m)\u001b[0m\u001b[1;33m[\u001b[0m\u001b[1;33m:\u001b[0m\u001b[1;33m,\u001b[0m \u001b[1;36m1\u001b[0m\u001b[1;33m]\u001b[0m\u001b[1;33m)\u001b[0m\u001b[1;33m)\u001b[0m\u001b[1;33m\u001b[0m\u001b[1;33m\u001b[0m\u001b[0m\n\u001b[0;32m      4\u001b[0m \u001b[0mf1_score\u001b[0m\u001b[1;33m.\u001b[0m\u001b[0mappend\u001b[0m\u001b[1;33m(\u001b[0m\u001b[0mnp\u001b[0m\u001b[1;33m.\u001b[0m\u001b[0mmean\u001b[0m\u001b[1;33m(\u001b[0m\u001b[0mnp\u001b[0m\u001b[1;33m.\u001b[0m\u001b[0marray\u001b[0m\u001b[1;33m(\u001b[0m\u001b[0mkm_f1score_list\u001b[0m\u001b[1;33m)\u001b[0m\u001b[1;33m)\u001b[0m\u001b[1;33m)\u001b[0m\u001b[1;33m\u001b[0m\u001b[1;33m\u001b[0m\u001b[0m\n\u001b[0;32m      5\u001b[0m \u001b[0mf1_score\u001b[0m\u001b[1;33m.\u001b[0m\u001b[0mappend\u001b[0m\u001b[1;33m(\u001b[0m\u001b[0mnp\u001b[0m\u001b[1;33m.\u001b[0m\u001b[0mmean\u001b[0m\u001b[1;33m(\u001b[0m\u001b[0mnp\u001b[0m\u001b[1;33m.\u001b[0m\u001b[0marray\u001b[0m\u001b[1;33m(\u001b[0m\u001b[0msp_f1score_list\u001b[0m\u001b[1;33m)\u001b[0m\u001b[1;33m)\u001b[0m\u001b[1;33m)\u001b[0m\u001b[1;33m\u001b[0m\u001b[1;33m\u001b[0m\u001b[0m\n",
      "\u001b[1;31mNameError\u001b[0m: name 'np' is not defined"
     ]
    }
   ],
   "source": [
    "f1_score = []\n",
    "f1_score.append(np.mean(np.array(svm_f1score_list)[:, 1]))\n",
    "f1_score.append(np.mean(np.array(semi_f1score_list)[:, 1]))\n",
    "f1_score.append(np.mean(np.array(km_f1score_list)))\n",
    "f1_score.append(np.mean(np.array(sp_f1score_list)))\n",
    "\n",
    "label_list = ['Supervised', 'Semi-Supervised', 'k-means', 'spectral']\n",
    "for i in range(len(f1_score)):\n",
    "    plt.scatter(i, f1_score[i], label=label_list[i])\n",
    "plt.ylabel('f1 score')\n",
    "plt.legend()"
   ]
  },
  {
   "cell_type": "code",
   "execution_count": 27,
   "metadata": {
    "ExecuteTime": {
     "end_time": "2019-04-02T08:21:07.689590Z",
     "start_time": "2019-04-02T08:21:07.539956Z"
    }
   },
   "outputs": [
    {
     "data": {
      "text/plain": [
       "<matplotlib.legend.Legend at 0x2aeb61cc470>"
      ]
     },
     "execution_count": 27,
     "metadata": {},
     "output_type": "execute_result"
    },
    {
     "data": {
      "image/png": "[encoded data removed]",
      "text/plain": [
       "<Figure size 432x288 with 1 Axes>"
      ]
     },
     "metadata": {
      "needs_background": "light"
     },
     "output_type": "display_data"
    }
   ],
   "source": [
    "fprs = [svm_fprs, semi_fprs, km_fprs, sp_fprs]\n",
    "tprs = [svm_tprs, semi_tprs, km_tprs, sp_tprs]\n",
    "for i in range(len(fprs)):\n",
    "    plt.plot(fprs[i], tprs[i], label=label_list[i])\n",
    "plt.title('ROC curve')\n",
    "plt.legend()"
   ]
  },
  {
   "cell_type": "raw",
   "metadata": {},
   "source": [
    "It can be seen from the above comparison that supervised learning on the full data set works better than semi-supervised learning with half of the data set labeled and that unsupervised learning underperforms in such situations."
   ]
  },
  {
   "cell_type": "markdown",
   "metadata": {},
   "source": [
    "# Active Learning Using Support Vector Machines"
   ]
  },
  {
   "cell_type": "code",
   "execution_count": 40,
   "metadata": {},
   "outputs": [
    {
     "name": "stdout",
     "output_type": "stream",
     "text": [
      "ignore Warnning of the minimum number of members\n"
     ]
    }
   ],
   "source": [
    "import warnings\n",
    "warnings.filterwarnings('ignore')\n",
    "print('ignore Warnning of the minimum number of members')"
   ]
  },
  {
   "cell_type": "code",
   "execution_count": 20,
   "metadata": {
    "ExecuteTime": {
     "end_time": "2019-04-04T07:30:29.288564Z",
     "start_time": "2019-04-04T06:37:28.382542Z"
    }
   },
   "outputs": [
    {
     "name": "stdout",
     "output_type": "stream",
     "text": [
      "data_shape: (1372, 4) targets_shape: (1372,)\n"
     ]
    }
   ],
   "source": [
    "import numpy as np\n",
    "txtdirector = 'data_banknote_authentication.txt'\n",
    "def getdata():\n",
    "    file_object = open(txtdirector)\n",
    "    file_content = file_object.read().splitlines()\n",
    "    p_datas, p_targets = [], []\n",
    "    for line in file_content:\n",
    "        line = line.split(',')\n",
    "        p_datas.append(list(map(float, line[:-1])))\n",
    "        p_targets.append(int(line[-1]))\n",
    "    p_datas = np.array(p_datas)\n",
    "    p_targets = np.array(p_targets)\n",
    "    return(p_datas, p_targets)\n",
    "all_datas,all_targets=getdata()\n",
    "print('data_shape:', all_datas.shape,'targets_shape:',all_targets.shape)"
   ]
  },
  {
   "cell_type": "code",
   "execution_count": 22,
   "metadata": {},
   "outputs": [
    {
     "name": "stdout",
     "output_type": "stream",
     "text": [
      "targets before shuffle: [0 0 0 0 0 0 0 0 0 0]\n",
      "targets after shuffle: [0 0 1 1 0 0 1 0 0 0] ---- at least 3 member in a class\n"
     ]
    }
   ],
   "source": [
    "import random\n",
    "from collections import Counter\n",
    "def do_shuffle(p_datas, p_targets):\n",
    "    indexlist = list(range(len(p_datas)))\n",
    "    success = False\n",
    "    while not success:\n",
    "        random.shuffle(indexlist)\n",
    "        shuffled_datas = p_datas[indexlist]\n",
    "        shuffled_targets = p_targets[indexlist]\n",
    "        check = shuffled_targets[:10]\n",
    "        count = Counter(check)\n",
    "        if count[0] >= 3 and count[1] >= 3:\n",
    "            success = True\n",
    "    return(shuffled_datas, shuffled_targets)\n",
    "print('targets before shuffle:',all_targets[:10])\n",
    "shuffled_datas,shuffled_targets=do_shuffle(all_datas,all_targets)\n",
    "print('targets after shuffle:',shuffled_targets[:10],'---- at least 3 member in a class')"
   ]
  },
  {
   "cell_type": "code",
   "execution_count": 23,
   "metadata": {},
   "outputs": [
    {
     "name": "stdout",
     "output_type": "stream",
     "text": [
      "train_nums: (900,) test_nums: (472,)\n"
     ]
    }
   ],
   "source": [
    "def get_train_test(p_datas, p_targets):\n",
    "    train_data, train_target = shuffled_datas[:900], shuffled_targets[:900]\n",
    "    test_data, test_target = shuffled_datas[900:], shuffled_targets[900:]\n",
    "    return (train_data, train_target), (test_data, test_target)\n",
    "(train_data, train_target), (test_data, test_target) =get_train_test(shuffled_datas,shuffled_targets)\n",
    "print('train_nums:',train_target.shape,'test_nums:',test_target.shape)"
   ]
  },
  {
   "cell_type": "code",
   "execution_count": 32,
   "metadata": {},
   "outputs": [
    {
     "name": "stdout",
     "output_type": "stream",
     "text": [
      "grid choose: [1e-06, 1e-05, 0.0001, 0.001, 0.01, 0.1, 1, 10, 100, 1000, 10000, 100000]\n"
     ]
    }
   ],
   "source": [
    "from sklearn import model_selection, svm\n",
    "C_grid = [{'C': list(10**i for i in range(-6, 6))}]\n",
    "print('grid choose range:',C_grid[0]['C'])"
   ]
  },
  {
   "cell_type": "code",
   "execution_count": 52,
   "metadata": {},
   "outputs": [
    {
     "name": "stdout",
     "output_type": "stream",
     "text": [
      "Wall time: 0 ns\n",
      "train and get best svm in gave 100 data:\n",
      "<bound method BaseEstimator.get_params of LinearSVC(C=0.1, class_weight=None, dual=False, fit_intercept=True,\n",
      "     intercept_scaling=1, loss='squared_hinge', max_iter=20000,\n",
      "     multi_class='ovr', penalty='l1', random_state=None, tol=0.001,\n",
      "     verbose=0)>\n"
     ]
    }
   ],
   "source": [
    "def get_grided_model(p_datas, p_targets):\n",
    "    grid_svc = svm.LinearSVC(penalty='l1', dual=False, max_iter=20000, tol=1e-3)\n",
    "    if len(p_targets) == 10:\n",
    "        cv_num = 5\n",
    "    else:\n",
    "        cv_num = 10\n",
    "    grid_search = model_selection.GridSearchCV(grid_svc, C_grid, n_jobs=-1, cv=cv_num, iid=True)\n",
    "    grid_search.fit(p_datas, p_targets)\n",
    "    return(grid_search.best_estimator_)\n",
    "temp_svm=get_grided_model(train_data[:100], train_target[:100])\n",
    "print('train and get best svm in gave 100 data:')\n",
    "print(temp_svm.get_params)"
   ]
  },
  {
   "cell_type": "code",
   "execution_count": 55,
   "metadata": {},
   "outputs": [
    {
     "data": {
      "text/plain": [
       "<matplotlib.collections.PathCollection at 0x183424abf28>"
      ]
     },
     "execution_count": 55,
     "metadata": {},
     "output_type": "execute_result"
    },
    {
     "data": {
      "image/png": "[encoded data removed]",
      "text/plain": [
       "<Figure size 432x288 with 1 Axes>"
      ]
     },
     "metadata": {
      "needs_background": "light"
     },
     "output_type": "display_data"
    }
   ],
   "source": [
    "temp_accuracy = list()\n",
    "for i in range(90):\n",
    "    rangeofdata = 10*(i+1)\n",
    "    pool_datas = train_data[:rangeofdata]\n",
    "    pool_targets = train_target[:rangeofdata]\n",
    "    tempsvc = get_grided_model(pool_datas, pool_targets)\n",
    "    tempsvc.fit(pool_datas, pool_targets)\n",
    "    predicts = tempsvc.predict(test_data)\n",
    "    accu = sum(predicts == test_target)/472\n",
    "    temp_accuracy.append(accu)\n",
    "plt.title('the 90 svm errors in passive learning')\n",
    "plt.ylabel('accuracy')\n",
    "plt.scatter(list(range(90)),temp_accuracy)"
   ]
  },
  {
   "cell_type": "code",
   "execution_count": 51,
   "metadata": {},
   "outputs": [
    {
     "name": "stdout",
     "output_type": "stream",
     "text": [
      "passive learning: shuffle data and running for 0 time\n",
      "passive learning: shuffle data and running for 1 time\n",
      "passive learning: shuffle data and running for 2 time\n",
      "passive learning: shuffle data and running for 3 time\n",
      "passive learning: shuffle data and running for 4 time\n",
      "passive learning: shuffle data and running for 5 time\n",
      "passive learning: shuffle data and running for 6 time\n",
      "passive learning: shuffle data and running for 7 time\n",
      "passive learning: shuffle data and running for 8 time\n",
      "passive learning: shuffle data and running for 9 time\n",
      "passive learning: shuffle data and running for 10 time\n",
      "passive learning: shuffle data and running for 11 time\n",
      "passive learning: shuffle data and running for 12 time\n",
      "passive learning: shuffle data and running for 13 time\n",
      "passive learning: shuffle data and running for 14 time\n",
      "passive learning: shuffle data and running for 15 time\n",
      "passive learning: shuffle data and running for 16 time\n",
      "passive learning: shuffle data and running for 17 time\n",
      "passive learning: shuffle data and running for 18 time\n",
      "passive learning: shuffle data and running for 19 time\n",
      "passive learning: shuffle data and running for 20 time\n",
      "passive learning: shuffle data and running for 21 time\n",
      "passive learning: shuffle data and running for 22 time\n",
      "passive learning: shuffle data and running for 23 time\n",
      "passive learning: shuffle data and running for 24 time\n",
      "passive learning: shuffle data and running for 25 time\n",
      "passive learning: shuffle data and running for 26 time\n",
      "passive learning: shuffle data and running for 27 time\n",
      "passive learning: shuffle data and running for 28 time\n",
      "passive learning: shuffle data and running for 29 time\n",
      "passive learning: shuffle data and running for 30 time\n",
      "passive learning: shuffle data and running for 31 time\n",
      "passive learning: shuffle data and running for 32 time\n",
      "passive learning: shuffle data and running for 33 time\n",
      "passive learning: shuffle data and running for 34 time\n",
      "passive learning: shuffle data and running for 35 time\n",
      "passive learning: shuffle data and running for 36 time\n",
      "passive learning: shuffle data and running for 37 time\n",
      "passive learning: shuffle data and running for 38 time\n",
      "passive learning: shuffle data and running for 39 time\n",
      "passive learning: shuffle data and running for 40 time\n",
      "passive learning: shuffle data and running for 41 time\n",
      "passive learning: shuffle data and running for 42 time\n",
      "passive learning: shuffle data and running for 43 time\n",
      "passive learning: shuffle data and running for 44 time\n",
      "passive learning: shuffle data and running for 45 time\n",
      "passive learning: shuffle data and running for 46 time\n",
      "passive learning: shuffle data and running for 47 time\n",
      "passive learning: shuffle data and running for 48 time\n",
      "passive learning: shuffle data and running for 49 time\n"
     ]
    }
   ],
   "source": [
    "def passive_learning(p_train_datas, p_train_targets, p_test_datas, p_test_targets):\n",
    "    print('start')\n",
    "    accuracy = list()\n",
    "    for repeat in range(50):\n",
    "        shuffled_train_datas, shuffled_train_targets = do_shuffle(p_train_datas, p_train_targets)\n",
    "        print('passive learning: shuffle data and running for %s time'% repeat)\n",
    "        for i in range(90):\n",
    "            rangeofdata = 10*(i+1)\n",
    "            pool_datas = shuffled_train_datas[:rangeofdata]\n",
    "            pool_targets = shuffled_train_targets[:rangeofdata]\n",
    "            tempsvc = get_grided_model(pool_datas, pool_targets)\n",
    "            tempsvc.fit(pool_datas, pool_targets)\n",
    "            predicts = tempsvc.predict(p_test_datas)\n",
    "            accu = sum(predicts == p_test_targets)/472\n",
    "            accuracy.append(accu)\n",
    "    print('end')\n",
    "    return(accuracy)\n",
    "accu_passive = passive_learning(train_data, train_target, test_data, test_target)"
   ]
  },
  {
   "cell_type": "code",
   "execution_count": 61,
   "metadata": {},
   "outputs": [
    {
     "name": "stdout",
     "output_type": "stream",
     "text": [
      "mean accuracy of passive learning:\n"
     ]
    },
    {
     "data": {
      "text/plain": [
       "<matplotlib.legend.Legend at 0x18341cd9550>"
      ]
     },
     "execution_count": 61,
     "metadata": {},
     "output_type": "execute_result"
    },
    {
     "data": {
      "image/png": "[encoded data removed]",
      "text/plain": [
       "<Figure size 432x288 with 1 Axes>"
      ]
     },
     "metadata": {
      "needs_background": "light"
     },
     "output_type": "display_data"
    }
   ],
   "source": [
    "print('mean accuracy of passive learning:')\n",
    "accu_passive = np.array(accu_passive).reshape(50, 90)\n",
    "passive_list = np.mean(accu_passive, axis=0)\n",
    "x_list = list(range(len(passive_list)))\n",
    "plt.xlabel('datasizes')\n",
    "plt.ylabel('accuracy')\n",
    "plt.plot(x_list, passive_list, label='passive')\n",
    "plt.legend()"
   ]
  },
  {
   "cell_type": "code",
   "execution_count": 73,
   "metadata": {},
   "outputs": [
    {
     "name": "stdout",
     "output_type": "stream",
     "text": [
      "distance of 50 target in rest data\n",
      "[array([5.01964907]), array([2.83491661]), array([2.94533531]), array([3.20191512]), array([3.25060413]), array([2.40388446]), array([2.34011933]), array([2.17831727]), array([3.77637839]), array([3.04199711]), array([3.80133556]), array([0.3404323]), array([1.27425932]), array([2.70552422]), array([2.32550519]), array([2.04249005]), array([2.22711334]), array([2.16031398]), array([2.65817074]), array([1.93319338]), array([0.41534318]), array([1.68317158]), array([1.45375951]), array([4.88322418]), array([3.10030602]), array([2.46116103]), array([2.87282959]), array([3.06149233]), array([3.11152861]), array([1.79410724]), array([3.63673911]), array([3.99233595]), array([2.78669093]), array([1.91490352]), array([3.80121759]), array([3.96721617]), array([2.16691529]), array([2.83426757]), array([1.81890348]), array([2.14487348]), array([2.37404468]), array([1.15590899]), array([1.84760438]), array([2.50229637]), array([3.95267291]), array([1.84347915]), array([2.8647285]), array([1.48486576]), array([2.81546382]), array([4.33976982])]\n"
     ]
    }
   ],
   "source": [
    "import math\n",
    "def get_distance(coef, intercept, data):\n",
    "    sums = math.sqrt(np.sum(coef**2))\n",
    "    return abs(np.sum(coef*data)+intercept)/sums\n",
    "\n",
    "dis_list = list()\n",
    "for data in test_data[:50]:\n",
    "    dis_list.append(get_distance(temp_svm.coef_, temp_svm.intercept_, data))\n",
    "print('distance of 50 target in rest data:')\n",
    "print(dis_list)"
   ]
  },
  {
   "cell_type": "code",
   "execution_count": 90,
   "metadata": {},
   "outputs": [
    {
     "name": "stdout",
     "output_type": "stream",
     "text": [
      "strat\n",
      "active learning: shuffle data and running for 0 time\n",
      "active learning: shuffle data and running for 1 time\n",
      "active learning: shuffle data and running for 2 time\n",
      "active learning: shuffle data and running for 3 time\n",
      "active learning: shuffle data and running for 4 time\n",
      "active learning: shuffle data and running for 5 time\n",
      "active learning: shuffle data and running for 6 time\n",
      "active learning: shuffle data and running for 7 time\n",
      "active learning: shuffle data and running for 8 time\n",
      "active learning: shuffle data and running for 9 time\n",
      "active learning: shuffle data and running for 10 time\n",
      "active learning: shuffle data and running for 11 time\n",
      "active learning: shuffle data and running for 12 time\n",
      "active learning: shuffle data and running for 13 time\n",
      "active learning: shuffle data and running for 14 time\n",
      "active learning: shuffle data and running for 15 time\n",
      "active learning: shuffle data and running for 16 time\n",
      "active learning: shuffle data and running for 17 time\n",
      "active learning: shuffle data and running for 18 time\n",
      "active learning: shuffle data and running for 19 time\n",
      "active learning: shuffle data and running for 20 time\n",
      "active learning: shuffle data and running for 21 time\n",
      "active learning: shuffle data and running for 22 time\n",
      "active learning: shuffle data and running for 23 time\n",
      "active learning: shuffle data and running for 24 time\n",
      "active learning: shuffle data and running for 25 time\n",
      "active learning: shuffle data and running for 26 time\n",
      "active learning: shuffle data and running for 27 time\n",
      "active learning: shuffle data and running for 28 time\n",
      "active learning: shuffle data and running for 29 time\n",
      "active learning: shuffle data and running for 30 time\n",
      "active learning: shuffle data and running for 31 time\n",
      "active learning: shuffle data and running for 32 time\n",
      "active learning: shuffle data and running for 33 time\n",
      "active learning: shuffle data and running for 34 time\n",
      "active learning: shuffle data and running for 35 time\n",
      "active learning: shuffle data and running for 36 time\n",
      "active learning: shuffle data and running for 37 time\n",
      "active learning: shuffle data and running for 38 time\n",
      "active learning: shuffle data and running for 39 time\n",
      "active learning: shuffle data and running for 40 time\n",
      "active learning: shuffle data and running for 41 time\n",
      "active learning: shuffle data and running for 42 time\n",
      "active learning: shuffle data and running for 43 time\n",
      "active learning: shuffle data and running for 44 time\n",
      "active learning: shuffle data and running for 45 time\n",
      "active learning: shuffle data and running for 46 time\n",
      "active learning: shuffle data and running for 47 time\n",
      "active learning: shuffle data and running for 48 time\n",
      "active learning: shuffle data and running for 49 time\n",
      "end\n"
     ]
    }
   ],
   "source": [
    "import heapq\n",
    "def get_nearst(coef, intercept, p_datas, p_targets):\n",
    "    if len(p_datas) == 0:\n",
    "        return(p_datas, p_targets, p_datas, p_targets)\n",
    "    else:\n",
    "        selected_datas = list()\n",
    "        selected_targets = list()\n",
    "        rest_datas = list(p_datas.copy())\n",
    "        rest_targets = list(p_targets.copy())\n",
    "        distance_list = list()\n",
    "        for data in p_datas:\n",
    "            distance_list.append(get_distance(coef, intercept, data))\n",
    "        smallest_index = list(map(distance_list.index, heapq.nsmallest(10, distance_list)))\n",
    "        smallest_index.sort(key=None, reverse=True)\n",
    "        for index in smallest_index:\n",
    "            selected_datas.append(p_datas[index])\n",
    "            selected_targets.append(p_targets[index])\n",
    "            rest_datas.pop(index)\n",
    "            rest_targets.pop(index)\n",
    "        return(np.array(selected_datas), np.array(selected_targets), np.array(rest_datas), np.array(rest_targets))\n",
    "\n",
    "def active_learning(p_train_datas, p_train_targets, p_test_datas, p_test_targets):\n",
    "    print('strat')\n",
    "    accuracy = list()\n",
    "    for repeat in range(50):\n",
    "        shuffled_train_datas, shuffled_train_targets = do_shuffle(p_train_datas, p_train_targets)\n",
    "        pool_datas, pool_targets = shuffled_train_datas[:10], shuffled_train_targets[:10]\n",
    "        rest_datas, rest_targets = shuffled_train_datas[10:], shuffled_train_targets[10:]\n",
    "        print('active learning: shuffle data and running for %s time'% repeat)\n",
    "        for i in range(90):\n",
    "            tempsvc = get_grided_model(pool_datas, pool_targets)\n",
    "            tempsvc.fit(pool_datas, pool_targets)\n",
    "            predicts = tempsvc.predict(p_test_datas)\n",
    "            accu = sum(predicts == p_test_targets)/472\n",
    "            accuracy.append(accu)\n",
    "            choosed_datas, choosed_targets, rest_datas, rest_targets = get_nearst(tempsvc.coef_[0], tempsvc.intercept_[0], rest_datas, rest_targets)\n",
    "            if not len(choosed_datas) == 0:\n",
    "                pool_datas = np.vstack((pool_datas, choosed_datas))\n",
    "                pool_targets = np.hstack((pool_targets, choosed_targets))\n",
    "    print('end')\n",
    "    return(accuracy)\n",
    "\n",
    "accu_active = active_learning(train_data, train_target, test_data, test_target)"
   ]
  },
  {
   "cell_type": "code",
   "execution_count": 91,
   "metadata": {},
   "outputs": [
    {
     "name": "stdout",
     "output_type": "stream",
     "text": [
      "mean accuracy of active learning:\n"
     ]
    },
    {
     "data": {
      "text/plain": [
       "<matplotlib.legend.Legend at 0x183424d1278>"
      ]
     },
     "execution_count": 91,
     "metadata": {},
     "output_type": "execute_result"
    },
    {
     "data": {
      "image/png": "[encoded data removed]",
      "text/plain": [
       "<Figure size 432x288 with 1 Axes>"
      ]
     },
     "metadata": {
      "needs_background": "light"
     },
     "output_type": "display_data"
    }
   ],
   "source": [
    "print('mean accuracy of active learning:')\n",
    "accu_active = np.array(accu_active).reshape(50, 90)\n",
    "active_list = np.mean(accu_active, axis=0)\n",
    "x_list = list(range(len(active_list)))\n",
    "plt.xlabel('datasizes')\n",
    "plt.ylabel('accuracy')\n",
    "plt.plot(x_list, active_list, label='active')\n",
    "plt.legend()"
   ]
  },
  {
   "cell_type": "code",
   "execution_count": 92,
   "metadata": {},
   "outputs": [
    {
     "data": {
      "image/png": "[encoded data removed]",
      "text/plain": [
       "<Figure size 432x288 with 1 Axes>"
      ]
     },
     "metadata": {
      "needs_background": "light"
     },
     "output_type": "display_data"
    }
   ],
   "source": [
    "def show(accu_passive, accu_active):\n",
    "    passive_list = np.mean(accu_passive, axis=0)\n",
    "    active_list = np.mean(accu_active, axis=0)\n",
    "    x_list = list(range(len(passive_list)))\n",
    "    plt.plot(x_list, passive_list, label='passive')\n",
    "    plt.plot(x_list, active_list, label='active')\n",
    "    plt.legend()\n",
    "    plt.xlabel('datasizes')\n",
    "    plt.ylabel('accuracy')\n",
    "show(accu_passive,accu_active)"
   ]
  },
  {
   "cell_type": "code",
   "execution_count": null,
   "metadata": {},
   "outputs": [],
   "source": []
  }
 ],
 "metadata": {
  "kernelspec": {
   "display_name": "Python 3",
   "language": "python",
   "name": "python3"
  },
  "language_info": {
   "codemirror_mode": {
    "name": "ipython",
    "version": 3
   },
   "file_extension": ".py",
   "mimetype": "text/x-python",
   "name": "python",
   "nbconvert_exporter": "python",
   "pygments_lexer": "ipython3",
   "version": "3.6.8"
  },
  "toc": {
   "base_numbering": 1,
   "nav_menu": {},
   "number_sections": true,
   "sideBar": true,
   "skip_h1_title": false,
   "title_cell": "Table of Contents",
   "title_sidebar": "Contents",
   "toc_cell": false,
   "toc_position": {},
   "toc_section_display": true,
   "toc_window_display": false
  }
 },
 "nbformat": 4,
 "nbformat_minor": 2
}
